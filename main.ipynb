{
 "cells": [
  {
   "cell_type": "code",
   "execution_count": null,
   "metadata": {},
   "outputs": [],
   "source": []
  },
  {
   "cell_type": "code",
   "execution_count": null,
   "metadata": {},
   "outputs": [],
   "source": []
  },
  {
   "cell_type": "code",
   "execution_count": null,
   "metadata": {},
   "outputs": [],
   "source": [
    "from bs4 import BeautifulSoup\n",
    "import requests\n",
    "import csv\n",
    "import re\n",
    "from requests_html import HTMLSession # https://github.com/psf/requests-html"
   ]
  },
  {
   "cell_type": "markdown",
   "metadata": {},
   "source": [
    "On cherche par rapport au nom de famille, les noms de famille de naissance sont utilisés. Il faut donc regarder le lieu de naissance des enfants pour savoir si la famille à bouger (suivie le/la partenaire).\n",
    "\n",
    "Il faudrait arriver à trouver l'ancêtre le plus loin pour un nom de famille, puis analyser sa descendance :\n",
    "Pour chaque enfant : \n",
    "    - Si c'est un garcon ou une fille on récupère les informations nescessaires + récupération des informations de l'épouse/époux\n",
    "    - Si c'est un garcon on analysera la descendance\n",
    "\n",
    "\n",
    "Informations à récupérer pour chaque personne :\n",
    " - Genre\n",
    " - Nom\n",
    " - Prénom\n",
    " - Date naissance\n",
    " - Lieu de naissance\n",
    " - Date mort\n",
    " - Lieu de mort\n",
    "\n",
    "\n",
    "Visualisation (folium):\n",
    " - Sur une carte qui s'actualise tous les 10 ans, on affiche les naissances et les morts aux endroits correspondants\n",
    "\n",
    "Avec le lieu de naissance de toute la famille, on peut voir comment ils se sont déplacé au fil des ans.\n",
    "\n",
    "Améliorations :\n",
    "\n",
    "Utilisation du lieu de mort, du lieu de certains événements, des informations des époux/épouses\n",
    "\n",
    "\n"
   ]
  },
  {
   "cell_type": "code",
   "execution_count": null,
   "metadata": {},
   "outputs": [],
   "source": [
    "# set up \n",
    "# !pip install selenium\n",
    "# !pip install bs4\n",
    "# !pip install webdriver_manager\n",
    "# !pip install requests\n"
   ]
  },
  {
   "cell_type": "code",
   "execution_count": null,
   "metadata": {},
   "outputs": [],
   "source": [
    "# initialisation\n",
    "\n",
    "# vidéo tuto : https://www.youtube.com/watch?v=3fcKKZMFbyA \n",
    "\n",
    "\n",
    "data_test = [{\"nom\":\"MARTIN\", \"prénom\":\"Jean\", \"genre\": \"M\", \"ddn\": 1855, \"ldn\":\"Paris\", \"ddm\": 1920, \"ldm\":\"Paris\"},{\"nom\":\"MARTIN\", \"prénom\":\"Jacques\", \"genre\": \"M\", \"ddn\": 1822, \"ldn\":\"Lyon\", \"ddm\": 1898, \"ldm\":\"Paris\"}]\n",
    "\n",
    "# print(data_test)\n",
    "data_test = sorted(data_test, key=lambda d: d['ddn']) \n",
    "# print(data_test)\n"
   ]
  },
  {
   "cell_type": "code",
   "execution_count": null,
   "metadata": {},
   "outputs": [],
   "source": [
    "# Futur fonction à utiliser (pour saisie du nom prenom et création de l'url correspondante)\n",
    "def traitementURL():\n",
    "    nom, prenom=getNomPrenom()\n",
    "    url = \"https://www.geneanet.org/fonds/individus/?go=1&nom=\" + nom + \"&prenom=\" + prenom + \"&prenom_operateur=or&with_variantes_nom=&with_variantes_nom_conjoint=&with_variantes_prenom=&with_variantes_prenom_conjoint=&size=10\" \n",
    "    return url \n",
    "\n",
    "def getNomPrenom():\n",
    "    nom = input(\"Saisir nom\")\n",
    "    prenom = input(\"Saisir prénom\")\n",
    "    return nom, prenom\n",
    "\n",
    "def getAncetres():\n",
    "    nom, prenom = getNomPrenom()\n",
    "    # récupérer f&s\n",
    "\n",
    "    # récupérer père et mère \n",
    "    \n",
    "    return"
   ]
  },
  {
   "cell_type": "code",
   "execution_count": null,
   "metadata": {},
   "outputs": [],
   "source": [
    "# Url de recherche de test\n",
    "url = \"https://www.geneanet.org/fonds/individus/?go=1&nom=martin&prenom=fran%C3%A7ois&prenom_operateur=or&with_variantes_nom=&with_variantes_nom_conjoint=&with_variantes_prenom=&with_variantes_prenom_conjoint=&size=10\""
   ]
  },
  {
   "cell_type": "code",
   "execution_count": null,
   "metadata": {},
   "outputs": [],
   "source": [
    "# Récupération du code html\n",
    "def getSoup(url):\n",
    "    request = requests.get(url)\n",
    "    soup = BeautifulSoup(request.content, 'html.parser')\n",
    "    return soup"
   ]
  },
  {
   "cell_type": "code",
   "execution_count": null,
   "metadata": {},
   "outputs": [],
   "source": [
    "url = \"https://www.geneanet.org/fonds/individus/?go=1&nom=martin&page=1&prenom=fran%C3%A7ois&prenom_operateur=or&size=10&with_variantes_nom=&with_variantes_nom_conjoint=&with_variantes_prenom=&with_variantes_prenom_conjoint=\"\n",
    "\n",
    "# Récupération du code html\n",
    "soup = getSoup(url)\n",
    "\n",
    "# Récupération de la div contenant toutes les urls en lien avec la recherche\n",
    "resOnly = soup.find(\"div\", {\"id\":\"table-resultats\"})\n",
    "# print(resOnly)\n",
    "\n",
    "allArbreUrl = []\n",
    "# Récupération des urls\n",
    "for a in resOnly.find_all('a'):\n",
    "    try:\n",
    "        if (re.search(\"^arbres_utilisateur\", a[\"data-id-es\"])):  #^arbres_utilisateur\n",
    "            allArbreUrl.append(a[\"href\"])\n",
    "    except:\n",
    "        \"\"\n",
    "print(allArbreUrl) #Comporte l'url des pages utilisateurs si se sont des arbres utilisateurs\n",
    "# headline = a.text-large\n",
    "# print(headline)"
   ]
  },
  {
   "cell_type": "code",
   "execution_count": null,
   "metadata": {},
   "outputs": [],
   "source": [
    "session = HTMLSession()"
   ]
  },
  {
   "cell_type": "code",
   "execution_count": null,
   "metadata": {},
   "outputs": [],
   "source": [
    "# Récupération des ascendants (remonter facilement à l'ancetre)\n",
    "def getUrlDerAscendant(url):\n",
    "    print(url)\n",
    "    r = session.get(url)\n",
    "    soup = BeautifulSoup(r.html.html, 'html.parser')\n",
    "    # Récupération du dernier ascendants\n",
    "    # print(soup)\n",
    "    urlDerAscendant = url\n",
    "    try: \n",
    "        arbreGene =  soup.find(\"td\", {\"id\":\"ancestors\"})\n",
    "        derAscendant = arbreGene.find(\"a\")[\"href\"]\n",
    "        urlDerAscendant = \"https://gw.geneanet.org/\" + derAscendant\n",
    "        urlDerAscendant = getUrlDerAscendant(urlDerAscendant)\n",
    "        \n",
    "    except:\n",
    "        print(\"Pas d'autre ascendent\")\n",
    "\n",
    "    return urlDerAscendant"
   ]
  },
  {
   "cell_type": "code",
   "execution_count": null,
   "metadata": {},
   "outputs": [],
   "source": [
    "def getEpouxEnfant(person_html):\n",
    "    # Récupération époux/épouse/enfants\n",
    "    person_union = person_html.find(\"ul\", {\"class\":\"fiche_union\"})\n",
    "    person_epoux = person_union.findChildren(\"li\" , recursive=False)\n",
    "    urlEpoux = []\n",
    "    urlChildren = []\n",
    "    data = []\n",
    "    try:\n",
    "        for epoux in person_epoux:\n",
    "            urlEpoux.append(\"https://gw.geneanet.org/\" + epoux.find(\"a\")[\"href\"])\n",
    "            children  = epoux.find_all(\"li\")\n",
    "            try:\n",
    "                for child in children:\n",
    "                    urlChildren.append(\"https://gw.geneanet.org/\" + child.find(\"a\")[\"href\"])\n",
    "            except:\n",
    "                print(\"Err Children\")\n",
    "    except:\n",
    "        print(\"Err Epoux\")\n",
    "    \n",
    "    for url in urlEpoux:\n",
    "        data += getDataUrl(url)\n",
    "    for url in urlChildren:\n",
    "        data += getDataUrl(url)\n",
    "\n",
    "    return data"
   ]
  },
  {
   "cell_type": "code",
   "execution_count": null,
   "metadata": {},
   "outputs": [],
   "source": [
    "def getDataUrl(url):\n",
    "    data = []\n",
    "    personne = {}\n",
    "    print(url)\n",
    "    r = session.get(url)\n",
    "    soup = BeautifulSoup(r.html.html, 'html.parser')\n",
    "\n",
    "    \n",
    "    # Récupération de l'html de l'ensemble des données d'une personne\n",
    "    person_html = soup.find(\"div\", {\"id\":\"perso\"})\n",
    "\n",
    "    # Récupération des données concernant la personne (genre, nom, prenom)\n",
    "    person_title = person_html.find(\"div\", {\"id\":\"person-title\"})\n",
    "    person_title = person_title.find(\"h1\")\n",
    "\n",
    "    personne[\"genre\"] = person_title.find(\"img\")[\"title\"]\n",
    "    \n",
    "    nomprenom = person_title.find_all(\"a\")\n",
    "    personne[\"nom\"] = nomprenom[0].text\n",
    "    personne[\"prenom\"] = nomprenom[1].text\n",
    "\n",
    "    # Récupération des données concernant la personne (ddm, ldm, ddm, ldm)\n",
    "    person_data_perso = person_html.find(\"ul\")\n",
    "    \n",
    "    personne[\"ddn\"] = \"\"\n",
    "    # date_naissance = person_data_perso.find(\"li\").text\n",
    "    # print(date_naissance)\n",
    "    # print(re.search(\"Né le .* -\", date_naissance))\n",
    "\n",
    "    personne[\"ldn\"] = \"\"\n",
    "    personne[\"ddm\"] = \"\"\n",
    "    personne[\"ldm\"] = \"\"\n",
    "    \n",
    "    \n",
    "    # Récupération des parents\n",
    "    \n",
    "\n",
    "    print(personne)\n",
    "\n",
    "\n",
    "    \n",
    "    if(personne[\"genre\"] == \"H\"):\n",
    "        try:\n",
    "            data = getEpouxEnfant(person_html)\n",
    "        except:\n",
    "            print(\"Err Epoux/Enfant\")\n",
    "    data.append(personne)\n",
    "    print(data)\n",
    "    return data\n",
    "\n",
    "    "
   ]
  },
  {
   "cell_type": "code",
   "execution_count": null,
   "metadata": {},
   "outputs": [],
   "source": [
    "# Récupération du code source de chaque url correspondant à une personne\n",
    "# {\"nom\":\"MARTIN\", \"prénom\":\"Jean\", \"genre\": \"M\", \"ddn\": 1855, \"ldn\":\"Paris\", \"ddm\": 1920, \"ldm\":\"Paris\"}\n",
    "urlDerAscendant = \"\"\n",
    "# for url in allArbreUrl:\n",
    "for i in range(1):\n",
    "    url = \"https://gw.geneanet.org/marmi1?n=martin&oc=&p=francois\"\n",
    "    print(\"url de base : \" + url)\n",
    "    data = []\n",
    "    \n",
    "    urlDerAscendant = getUrlDerAscendant(url)\n",
    "    print(\"url dernier ascendant : \" + urlDerAscendant)\n",
    "    data += getDataUrl(urlDerAscendant)\n",
    "    print(data)\n"
   ]
  }
 ],
 "metadata": {
  "interpreter": {
   "hash": "b5e3130ebc37246407a5feb736008dfb0cfc38dab606f978407299b2f7e79972"
  },
  "kernelspec": {
   "display_name": "Python 3.10.1 64-bit",
   "language": "python",
   "name": "python3"
  },
  "language_info": {
   "codemirror_mode": {
    "name": "ipython",
    "version": 3
   },
   "file_extension": ".py",
   "mimetype": "text/x-python",
   "name": "python",
   "nbconvert_exporter": "python",
   "pygments_lexer": "ipython3",
   "version": "3.7.4"
  },
  "orig_nbformat": 4
 },
 "nbformat": 4,
 "nbformat_minor": 2
}

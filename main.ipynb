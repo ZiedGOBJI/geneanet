{
 "cells": [
  {
   "cell_type": "code",
   "execution_count": 243,
   "metadata": {},
   "outputs": [],
   "source": [
    "from bs4 import BeautifulSoup\n",
    "import requests\n",
    "import csv\n",
    "import re\n",
    "import time\n",
    "from requests_html import HTMLSession # https://github.com/psf/requests-html"
   ]
  },
  {
   "cell_type": "markdown",
   "metadata": {},
   "source": [
    "On cherche par rapport au nom de famille, les noms de famille de naissance sont utilisés. Il faut donc regarder le lieu de naissance des enfants pour savoir si la famille à bouger (suivie le/la partenaire).\n",
    "\n",
    "Il faudrait arriver à trouver l'ancêtre le plus loin pour un nom de famille, puis analyser sa descendance :\n",
    "Pour chaque enfant : \n",
    "    - Si c'est un garcon ou une fille on récupère les informations nescessaires + récupération des informations de l'épouse/époux\n",
    "    - Si c'est un garcon on analysera la descendance\n",
    "\n",
    "\n",
    "Informations à récupérer pour chaque personne :\n",
    " - Genre\n",
    " - Nom\n",
    " - Prénom\n",
    " - Date naissance\n",
    " - Lieu de naissance\n",
    " - Date mort\n",
    " - Lieu de mort\n",
    "\n",
    "\n",
    "Visualisation (folium):\n",
    " - Sur une carte qui s'actualise tous les 10 ans, on affiche les naissances et les morts aux endroits correspondants\n",
    "\n",
    "Avec le lieu de naissance de toute la famille, on peut voir comment ils se sont déplacé au fil des ans.\n",
    "\n",
    "Améliorations :\n",
    "\n",
    "Utilisation du lieu de mort, du lieu de certains événements, des informations des époux/épouses\n",
    "\n",
    "\n"
   ]
  },
  {
   "cell_type": "code",
   "execution_count": 244,
   "metadata": {},
   "outputs": [],
   "source": [
    "# set up \n",
    "# !pip install selenium\n",
    "# !pip install bs4\n",
    "# !pip install webdriver_manager\n",
    "# !pip install requests\n"
   ]
  },
  {
   "cell_type": "code",
   "execution_count": 245,
   "metadata": {},
   "outputs": [],
   "source": [
    "# initialisation\n",
    "\n",
    "# vidéo tuto : https://www.youtube.com/watch?v=3fcKKZMFbyA \n",
    "\n",
    "\n",
    "data_test = [{\"nom\":\"MARTIN\", \"prénom\":\"Jean\", \"genre\": \"M\", \"ddn\": 1855, \"ldn\":\"Paris\", \"ddm\": 1920, \"ldm\":\"Paris\"},{\"nom\":\"MARTIN\", \"prénom\":\"Jacques\", \"genre\": \"M\", \"ddn\": 1822, \"ldn\":\"Lyon\", \"ddm\": 1898, \"ldm\":\"Paris\"}]\n",
    "\n",
    "# print(data_test)\n",
    "data_test = sorted(data_test, key=lambda d: d['ddn']) \n",
    "# print(data_test)\n"
   ]
  },
  {
   "cell_type": "code",
   "execution_count": 246,
   "metadata": {},
   "outputs": [],
   "source": [
    "# Futur fonction à utiliser (pour saisie du nom prenom et création de l'url correspondante)\n",
    "def traitementURL():\n",
    "    nom, prenom=getNomPrenom()\n",
    "    url = \"https://www.geneanet.org/fonds/individus/?go=1&nom=\" + nom + \"&prenom=\" + prenom + \"&prenom_operateur=or&with_variantes_nom=&with_variantes_nom_conjoint=&with_variantes_prenom=&with_variantes_prenom_conjoint=&size=10\" \n",
    "    return url \n",
    "\n",
    "def getNomPrenom():\n",
    "    nom = input(\"Saisir nom\")\n",
    "    prenom = input(\"Saisir prénom\")\n",
    "    return nom, prenom\n"
   ]
  },
  {
   "cell_type": "code",
   "execution_count": 247,
   "metadata": {},
   "outputs": [],
   "source": [
    "# Url de recherche de test\n",
    "url = \"https://www.geneanet.org/fonds/individus/?go=1&nom=martin&prenom=fran%C3%A7ois&prenom_operateur=or&with_variantes_nom=&with_variantes_nom_conjoint=&with_variantes_prenom=&with_variantes_prenom_conjoint=&size=10\""
   ]
  },
  {
   "cell_type": "code",
   "execution_count": 248,
   "metadata": {},
   "outputs": [],
   "source": [
    "# Récupération du code html\n",
    "def getSoup(url):\n",
    "    request = requests.get(url)\n",
    "    soup = BeautifulSoup(request.content, 'html.parser')\n",
    "    return soup"
   ]
  },
  {
   "cell_type": "code",
   "execution_count": 249,
   "metadata": {},
   "outputs": [],
   "source": [
    "url = \"https://www.geneanet.org/fonds/individus/?go=1&nom=martin&page=1&prenom=fran%C3%A7ois&prenom_operateur=or&size=10&with_variantes_nom=&with_variantes_nom_conjoint=&with_variantes_prenom=&with_variantes_prenom_conjoint=\"\n",
    "\n",
    "def getAllArbreUrl(url):\n",
    "    # Récupération du code html\n",
    "    soup = getSoup(url)\n",
    "\n",
    "    # Récupération de la div contenant toutes les urls en lien avec la recherche\n",
    "    resOnly = soup.find(\"div\", {\"id\":\"table-resultats\"})\n",
    "    # print(resOnly)\n",
    "\n",
    "    allArbreUrl = []\n",
    "    # Récupération des urls\n",
    "    for a in resOnly.find_all('a'):\n",
    "        try:\n",
    "            if (re.search(\"^arbres_utilisateur\", a[\"data-id-es\"])):  #^arbres_utilisateur\n",
    "                allArbreUrl.append(a[\"href\"])\n",
    "        except:\n",
    "            \"\"\n",
    "    print(allArbreUrl) # Comporte l'url des pages utilisateurs si se sont des arbres utilisateurs\n",
    "\n",
    "# getAllArbreUrl(url)\n"
   ]
  },
  {
   "cell_type": "code",
   "execution_count": 250,
   "metadata": {},
   "outputs": [],
   "source": [
    "session = HTMLSession()"
   ]
  },
  {
   "cell_type": "code",
   "execution_count": 251,
   "metadata": {},
   "outputs": [],
   "source": [
    "# Récupération des ascendants (remonter facilement à l'ancetre)\n",
    "def getUrlDerAscendant(url):\n",
    "    r = session.get(url)\n",
    "    soup = BeautifulSoup(r.html.html, 'html.parser')\n",
    "    # Récupération du dernier ascendants\n",
    "    # print(soup)\n",
    "    urlDerAscendant = url\n",
    "    try: \n",
    "        arbreGene =  soup.find(\"td\", {\"id\":\"ancestors\"})\n",
    "        derAscendant = arbreGene.find(\"a\")[\"href\"]\n",
    "        urlDerAscendant = \"https://gw.geneanet.org/\" + derAscendant\n",
    "        urlDerAscendant = getUrlDerAscendant(urlDerAscendant)\n",
    "        \n",
    "    except:\n",
    "        print(\"Pas d'autre ascendent\")\n",
    "\n",
    "    return urlDerAscendant"
   ]
  },
  {
   "cell_type": "code",
   "execution_count": 252,
   "metadata": {},
   "outputs": [],
   "source": [
    "def getEpouxEnfant(data, person_html):\n",
    "    # Récupération époux/épouse/enfants\n",
    "    print(\"debut epouxenfant\")\n",
    "    person_union = person_html.find(\"ul\", {\"class\":\"fiche_union\"})\n",
    "    print(\"personunion\")\n",
    "    \n",
    "    print(\"personepoux\")\n",
    "    urlEpoux = []\n",
    "    urlChildren = []\n",
    "    \n",
    "    try:\n",
    "        person_epoux = person_union.findChildren(\"li\" , recursive=False)\n",
    "        \n",
    "        for epoux in person_epoux:\n",
    "            urlEpoux.append(\"https://gw.geneanet.org/\" + epoux.find(\"a\")[\"href\"])\n",
    "            children = epoux.find_all(\"li\")\n",
    "            print(children)\n",
    "            try:\n",
    "                for child in children:\n",
    "                    urlChildren.append(\"https://gw.geneanet.org/\" + child.find(\"a\")[\"href\"])\n",
    "            except:\n",
    "                print(\"Err Children\")\n",
    "    except:\n",
    "        print(\"Err Epoux\")\n",
    "    \n",
    "    for url in urlEpoux:\n",
    "        data = getDataUrl(data, url)\n",
    "    for url in urlChildren:\n",
    "        data = getDataUrl(data, url)\n",
    "    return data"
   ]
  },
  {
   "cell_type": "code",
   "execution_count": 253,
   "metadata": {},
   "outputs": [
    {
     "name": "stdout",
     "output_type": "stream",
     "text": [
      "[{'z': 5, 4: 5}, {'z': 5, 4: 5}, {'rzfe': 'aaaaa'}]\n"
     ]
    }
   ],
   "source": [
    "t = []\n",
    "t2 = [{\"z\":5, 4:5},{\"z\":5, 4:5}]\n",
    "t3 = [{\"rzfe\":\"aaaaa\"}]\n",
    "t += t2\n",
    "t += t3\n",
    "print(t)"
   ]
  },
  {
   "cell_type": "code",
   "execution_count": 254,
   "metadata": {},
   "outputs": [],
   "source": [
    "def getDataUrl(url):\n",
    "    personne = {}\n",
    "    print(url)\n",
    "    r = session.get(url)\n",
    "    soup = BeautifulSoup(r.html.html, 'html.parser')\n",
    "\n",
    "    \n",
    "    # Récupération de l'html de l'ensemble des données d'une personne\n",
    "    person_html = soup.find(\"div\", {\"id\":\"perso\"})\n",
    "\n",
    "    # Récupération des données concernant la personne (genre, nom, prenom)\n",
    "    person_title = person_html.find(\"div\", {\"id\":\"person-title\"})\n",
    "    person_title = person_title.find(\"h1\")\n",
    "\n",
    "    personne[\"genre\"] = person_title.find(\"img\")[\"title\"]\n",
    "    \n",
    "    nomprenom = person_title.find_all(\"a\")\n",
    "    personne[\"nom\"] = nomprenom[0].text\n",
    "    personne[\"prenom\"] = nomprenom[1].text\n",
    "\n",
    "    # Récupération des données concernant la personne (ddm, ldm, ddm, ldm)\n",
    "    person_data_perso = person_html.find(\"ul\")\n",
    "\n",
    "    ldn = \"\"\n",
    "    ldm = \"\"\n",
    "\n",
    "    for li in person_data_perso.findAll(\"li\"):\n",
    "        li = li.text\n",
    "\n",
    "        try:\n",
    "            personne[\"ddn\"] = re.findall(\"[0-9]{4}\", re.findall(\"Né.*\", li)[0])[0]   \n",
    "        except:\n",
    "            \"\"\n",
    "        try:\n",
    "            personne[\"ddm\"] = re.findall(\"[0-9]{4}\", re.findall(\"Décédé.*\", li)[0])[0]\n",
    "        except:\n",
    "            \"\"\n",
    "        try:\n",
    "            ldn = re.findall(\"à [ '\\w+]*\", re.findall(\"Né.*\", li)[0])[0].replace(\"à \", \"\")\n",
    "        except:\n",
    "            \"\"\n",
    "        try:\n",
    "            ldn = re.findall(\"- [ '\\w+]*\", re.findall(\"Né.*\", li)[0])[0].replace(\"- \", \"\").replace(\"à \",\"\")\n",
    "        except:\n",
    "            \"\"\n",
    "        try:\n",
    "            ldm = re.findall(\"à [ '\\w+]*\", re.findall(\"Décédé.*\", li)[0])[0].replace(\"à \", \"\")\n",
    "        except:\n",
    "            \"\"\n",
    "        try:\n",
    "            ldm = re.findall(\"- [ '\\w+]*\", re.findall(\"Décédé.*\", li)[0])[0].replace(\"- \", \"\").replace(\"à \",\"\")\n",
    "        except:\n",
    "            \"\"\n",
    "\n",
    "    personne[\"ldn\"] = ldn\n",
    "    personne[\"ldm\"] = ldm\n",
    "    \n",
    "    # date_naissance = person_data_perso.find(\"li\").text\n",
    "    # print(date_naissance)\n",
    "    # print(re.search(\"Né le .* -\", date_naissance))\n",
    "    \n",
    "    \n",
    "    # Récupération des parents\n",
    "    try:\n",
    "        parents_data = person_html.find(\"div\", {\"id\":\"parents\"})\n",
    "        personne[\"pere\"] = parents_data.findAll(\"a\")[0].text\n",
    "        personne[\"mere\"] = parents_data.findAll(\"a\")[1].text\n",
    "    except:\n",
    "        print(\"Erreur parents\")\n",
    "\n",
    "    print(personne)\n",
    "    return personne\n",
    "\n",
    "    "
   ]
  },
  {
   "cell_type": "code",
   "execution_count": 255,
   "metadata": {},
   "outputs": [
    {
     "name": "stdout",
     "output_type": "stream",
     "text": [
      "Souvert \n"
     ]
    }
   ],
   "source": [
    "test = \"\"\"Né vers 1619 - à Souvert (commune de Chissey en Morvan ou Lucenay l'Evèque)\"\"\"\n",
    "\n",
    "try:\n",
    "    res = re.findall(\"à [ '\\w+]*\", test)[0].replace(\"à \", \"\")\n",
    "except:\n",
    "    \"\"\n",
    "\n",
    "try:\n",
    "    res = re.findall(\"- [ '\\w+]*\", test)[0].replace(\"- \", \"\").replace(\"à \",\"\")\n",
    "except:\n",
    "    \"\"\n",
    "print(res)"
   ]
  },
  {
   "cell_type": "code",
   "execution_count": 256,
   "metadata": {},
   "outputs": [],
   "source": [
    "def get_genre(url):\n",
    "    r = session.get(url)\n",
    "    soup = BeautifulSoup(r.html.html, 'html.parser')\n",
    "    person_html = soup.find(\"div\", {\"id\":\"perso\"})\n",
    "\n",
    "    # Récupération des données concernant la personne (genre, nom, prenom)\n",
    "    person_title = person_html.find(\"div\", {\"id\":\"person-title\"})\n",
    "    person_title = person_title.find(\"h1\")\n",
    "\n",
    "    genre = person_title.find(\"img\")[\"title\"]\n",
    "\n",
    "    return genre"
   ]
  },
  {
   "cell_type": "code",
   "execution_count": 257,
   "metadata": {},
   "outputs": [
    {
     "data": {
      "text/plain": [
       "'\\nurl = \"https://gw.geneanet.org/marmi1?lang=fr&pz=mathieu&nz=martin&p=mathieu&n=martin\"\\nurls = getAllUrls([], url)\\nfor u in urls:\\n    print(u)\\nprint(len(urls))\\n'"
      ]
     },
     "execution_count": 257,
     "metadata": {},
     "output_type": "execute_result"
    }
   ],
   "source": [
    "def getAllUrls(urls, lasturl):\n",
    "    print(lasturl)\n",
    "    \n",
    "    session = HTMLSession()\n",
    "    r = session.get(lasturl)\n",
    "    soup = BeautifulSoup(r.html.html, 'html.parser')\n",
    "    # print(soup)\n",
    "    \n",
    "    # Récupération de l'html de l'ensemble des données d'une personne\n",
    "    person_html = soup.find(\"div\", {\"id\":\"perso\"})\n",
    "    # print(\"soup\" + str(person_html))\n",
    "\n",
    "    person_union = person_html.find(\"ul\", {\"class\":\"fiche_union\"})\n",
    "    \n",
    "    \n",
    "    try:\n",
    "        person_epoux = person_union.findChildren(\"li\" , recursive=False)\n",
    "\n",
    "        for epoux in person_epoux:\n",
    "            urls.append(\"https://gw.geneanet.org/\" + epoux.find(\"a\")[\"href\"])\n",
    "            children = epoux.find_all(\"li\")\n",
    "            try:\n",
    "                for child in children:\n",
    "                    url = \"https://gw.geneanet.org/\" + child.find(\"a\")[\"href\"]\n",
    "                    urls.append(url)\n",
    "                    if(get_genre(url) == \"H\"):\n",
    "                        urls = getAllUrls(urls, url)\n",
    "            except:\n",
    "                print(\"Err Children\")\n",
    "    except:\n",
    "        print(\"Err Epoux\")\n",
    "    return urls\n",
    "\n",
    "\"\"\"\n",
    "url = \"https://gw.geneanet.org/marmi1?lang=fr&pz=mathieu&nz=martin&p=mathieu&n=martin\"\n",
    "urls = getAllUrls([], url)\n",
    "for u in urls:\n",
    "    print(u)\n",
    "print(len(urls))\n",
    "\"\"\""
   ]
  },
  {
   "cell_type": "code",
   "execution_count": 258,
   "metadata": {},
   "outputs": [
    {
     "name": "stdout",
     "output_type": "stream",
     "text": [
      "url de base : https://gw.geneanet.org/marmi1?n=martin&oc=&p=francois\n",
      "Pas d'autre ascendent\n",
      "url dernier ascendant : https://gw.geneanet.org/marmi1?lang=fr&pz=mathieu&nz=martin&p=mathieu&n=martin\n",
      "https://gw.geneanet.org/marmi1?lang=fr&pz=mathieu&nz=martin&p=mathieu&n=martin\n",
      "https://gw.geneanet.org/marmi1?lang=fr&pz=mathieu&nz=martin&p=martin&n=martin\n",
      "https://gw.geneanet.org/marmi1?lang=fr&pz=mathieu&nz=martin&p=jean&n=martin&oc=17\n",
      "https://gw.geneanet.org/marmi1?lang=fr&pz=mathieu&nz=martin&p=dominique&n=martin&oc=5\n",
      "https://gw.geneanet.org/marmi1?lang=fr&pz=mathieu&nz=martin&p=lazare&n=martin&oc=8\n",
      "Err Epoux\n",
      "https://gw.geneanet.org/marmi1?lang=fr&pz=mathieu&nz=martin&p=dimanche&n=martin\n",
      "https://gw.geneanet.org/marmi1?lang=fr&pz=mathieu&nz=martin&p=charles&n=martin&oc=4\n",
      "Err Epoux\n",
      "https://gw.geneanet.org/marmi1?lang=fr&pz=mathieu&nz=martin&p=jean&n=martin&oc=19\n",
      "https://gw.geneanet.org/marmi1?lang=fr&pz=mathieu&nz=martin&p=leonard&n=martin&oc=1\n",
      "https://gw.geneanet.org/marmi1?lang=fr&pz=mathieu&nz=martin&p=leger&n=martin\n",
      "Err Children\n",
      "Err Children\n",
      "Err Children\n",
      "23\n",
      "https://gw.geneanet.org/marmi1?lang=fr&pz=mathieu&nz=martin&p=&n=&oc=4\n",
      "https://gw.geneanet.org/marmi1?lang=fr&pz=mathieu&nz=martin&p=martin&n=martin\n",
      "https://gw.geneanet.org/marmi1?lang=fr&pz=mathieu&nz=martin&p=benoite&n=aliot\n",
      "https://gw.geneanet.org/marmi1?lang=fr&pz=mathieu&nz=martin&p=jean&n=martin&oc=17\n",
      "https://gw.geneanet.org/marmi1?lang=fr&pz=mathieu&nz=martin&p=mangeotte&n=allyot\n",
      "https://gw.geneanet.org/marmi1?lang=fr&pz=mathieu&nz=martin&p=dominique&n=martin&oc=5\n",
      "https://gw.geneanet.org/marmi1?lang=fr&pz=mathieu&nz=martin&p=jeanne&n=petteau\n",
      "https://gw.geneanet.org/marmi1?lang=fr&pz=mathieu&nz=martin&p=lazare&n=martin&oc=8\n",
      "https://gw.geneanet.org/marmi1?lang=fr&pz=mathieu&nz=martin&p=dimanche&n=martin\n",
      "https://gw.geneanet.org/marmi1?lang=fr&pz=mathieu&nz=martin&p=jeanne&n=perriau\n",
      "https://gw.geneanet.org/marmi1?lang=fr&pz=mathieu&nz=martin&p=benoiste&n=alliot\n",
      "https://gw.geneanet.org/marmi1?lang=fr&pz=mathieu&nz=martin&p=charles&n=martin&oc=4\n",
      "https://gw.geneanet.org/marmi1?lang=fr&pz=mathieu&nz=martin&p=jean&n=martin&oc=19\n",
      "https://gw.geneanet.org/marmi1?lang=fr&pz=mathieu&nz=martin&p=louyse&n=andre\n",
      "https://gw.geneanet.org/marmi1?lang=fr&pz=mathieu&nz=martin&p=jeanne&n=martin&oc=18\n",
      "https://gw.geneanet.org/marmi1?lang=fr&pz=mathieu&nz=martin&p=jeanne&n=martin&oc=17\n",
      "https://gw.geneanet.org/marmi1?lang=fr&pz=mathieu&nz=martin&p=leonard&n=martin&oc=1\n",
      "https://gw.geneanet.org/marmi1?lang=fr&pz=mathieu&nz=martin&p=pierrette&n=julien\n",
      "https://gw.geneanet.org/marmi1?lang=fr&pz=mathieu&nz=martin&p=leger&n=martin\n",
      "https://gw.geneanet.org/marmi1?lang=fr&pz=mathieu&nz=martin&p=etiennette&n=bourguinier\n",
      "https://gw.geneanet.org/marmi1?lang=fr&pz=mathieu&nz=martin&p=lazarette&n=martin&oc=4\n",
      "https://gw.geneanet.org/marmi1?lang=fr&pz=mathieu&nz=martin&p=anne&n=martin&oc=3\n",
      "https://gw.geneanet.org/marmi1?lang=fr&pz=mathieu&nz=martin&p=francoise&n=martin&oc=10\n",
      "https://gw.geneanet.org/marmi1?lang=fr&pz=mathieu&nz=martin&p=mathieu&n=martin\n"
     ]
    },
    {
     "ename": "AttributeError",
     "evalue": "'NoneType' object has no attribute 'find'",
     "output_type": "error",
     "traceback": [
      "\u001b[1;31m---------------------------------------------------------------------------\u001b[0m",
      "\u001b[1;31mAttributeError\u001b[0m                            Traceback (most recent call last)",
      "\u001b[1;32m~\\AppData\\Local\\Temp/ipykernel_12360/2349466543.py\u001b[0m in \u001b[0;36m<module>\u001b[1;34m\u001b[0m\n\u001b[0;32m     17\u001b[0m         \u001b[0mprint\u001b[0m\u001b[1;33m(\u001b[0m\u001b[0mu\u001b[0m\u001b[1;33m)\u001b[0m\u001b[1;33m\u001b[0m\u001b[1;33m\u001b[0m\u001b[0m\n\u001b[0;32m     18\u001b[0m \u001b[1;33m\u001b[0m\u001b[0m\n\u001b[1;32m---> 19\u001b[1;33m     \u001b[0mdata\u001b[0m \u001b[1;33m=\u001b[0m \u001b[0mgetDataUrl\u001b[0m\u001b[1;33m(\u001b[0m\u001b[0mdata\u001b[0m\u001b[1;33m,\u001b[0m \u001b[0murlDerAscendant\u001b[0m\u001b[1;33m)\u001b[0m\u001b[1;33m\u001b[0m\u001b[1;33m\u001b[0m\u001b[0m\n\u001b[0m\u001b[0;32m     20\u001b[0m     \u001b[0mprint\u001b[0m\u001b[1;33m(\u001b[0m\u001b[0mdata\u001b[0m\u001b[1;33m)\u001b[0m\u001b[1;33m\u001b[0m\u001b[1;33m\u001b[0m\u001b[0m\n\u001b[0;32m     21\u001b[0m \u001b[0mprint\u001b[0m\u001b[1;33m(\u001b[0m\u001b[0mlen\u001b[0m\u001b[1;33m(\u001b[0m\u001b[0mdata\u001b[0m\u001b[1;33m)\u001b[0m\u001b[1;33m)\u001b[0m\u001b[1;33m\u001b[0m\u001b[1;33m\u001b[0m\u001b[0m\n",
      "\u001b[1;32m~\\AppData\\Local\\Temp/ipykernel_12360/56185833.py\u001b[0m in \u001b[0;36mgetDataUrl\u001b[1;34m(data, url)\u001b[0m\n\u001b[0;32m     10\u001b[0m \u001b[1;33m\u001b[0m\u001b[0m\n\u001b[0;32m     11\u001b[0m     \u001b[1;31m# Récupération des données concernant la personne (genre, nom, prenom)\u001b[0m\u001b[1;33m\u001b[0m\u001b[1;33m\u001b[0m\u001b[1;33m\u001b[0m\u001b[0m\n\u001b[1;32m---> 12\u001b[1;33m     \u001b[0mperson_title\u001b[0m \u001b[1;33m=\u001b[0m \u001b[0mperson_html\u001b[0m\u001b[1;33m.\u001b[0m\u001b[0mfind\u001b[0m\u001b[1;33m(\u001b[0m\u001b[1;34m\"div\"\u001b[0m\u001b[1;33m,\u001b[0m \u001b[1;33m{\u001b[0m\u001b[1;34m\"id\"\u001b[0m\u001b[1;33m:\u001b[0m\u001b[1;34m\"person-title\"\u001b[0m\u001b[1;33m}\u001b[0m\u001b[1;33m)\u001b[0m\u001b[1;33m\u001b[0m\u001b[1;33m\u001b[0m\u001b[0m\n\u001b[0m\u001b[0;32m     13\u001b[0m     \u001b[0mperson_title\u001b[0m \u001b[1;33m=\u001b[0m \u001b[0mperson_title\u001b[0m\u001b[1;33m.\u001b[0m\u001b[0mfind\u001b[0m\u001b[1;33m(\u001b[0m\u001b[1;34m\"h1\"\u001b[0m\u001b[1;33m)\u001b[0m\u001b[1;33m\u001b[0m\u001b[1;33m\u001b[0m\u001b[0m\n\u001b[0;32m     14\u001b[0m \u001b[1;33m\u001b[0m\u001b[0m\n",
      "\u001b[1;31mAttributeError\u001b[0m: 'NoneType' object has no attribute 'find'"
     ]
    }
   ],
   "source": [
    "# Récupération du code source de chaque url correspondant à une personne\n",
    "# {\"nom\":\"MARTIN\", \"prénom\":\"Jean\", \"genre\": \"M\", \"ddn\": 1855, \"ldn\":\"Paris\", \"ddm\": 1920, \"ldm\":\"Paris\"}\n",
    "urlDerAscendant = \"\"\n",
    "# for url in allArbreUrl:\n",
    "for i in range(1):\n",
    "    url = \"https://gw.geneanet.org/marmi1?n=martin&oc=&p=francois\"\n",
    "    print(\"url de base : \" + url)\n",
    "    data = []\n",
    "    urls = []\n",
    "    \n",
    "    urlDerAscendant = getUrlDerAscendant(url)\n",
    "    print(\"url dernier ascendant : \" + urlDerAscendant)\n",
    "    urls = getAllUrls(urls, urlDerAscendant)\n",
    "\n",
    "    print(len(urls))\n",
    "    for u in urls:\n",
    "        print(u)\n",
    "        data.append(getDataUrl(u))\n",
    "    \n",
    "    \n",
    "    print(data)\n",
    "print(len(data))\n"
   ]
  }
 ],
 "metadata": {
  "interpreter": {
   "hash": "b5e3130ebc37246407a5feb736008dfb0cfc38dab606f978407299b2f7e79972"
  },
  "kernelspec": {
   "display_name": "Python 3.10.1 64-bit",
   "language": "python",
   "name": "python3"
  },
  "language_info": {
   "codemirror_mode": {
    "name": "ipython",
    "version": 3
   },
   "file_extension": ".py",
   "mimetype": "text/x-python",
   "name": "python",
   "nbconvert_exporter": "python",
   "pygments_lexer": "ipython3",
   "version": "3.7.4"
  },
  "orig_nbformat": 4
 },
 "nbformat": 4,
 "nbformat_minor": 2
}
